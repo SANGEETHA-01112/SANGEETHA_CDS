{
 "cells": [
  {
   "cell_type": "code",
   "execution_count": null,
   "metadata": {},
   "outputs": [],
   "source": [
    "\"\"\"\n",
    "Algorithm Name: Linear Search\n",
    "name: sangeetha\n",
    "Date: 16-08-2024\n",
    "\"\"\"\n",
    "def linear_search(list: int,element):\n",
    "    \"\"\"\n",
    "    Program of linear search to find the element in the list.\n",
    "    List: int: List with the integer elements to search\n",
    "    Element: Value to search in the list\n",
    "    \"\"\"\n",
    "\n",
    "    #Going through each index in the list\n",
    "    for idx in range(len(list)):\n",
    "       \n",
    "       #Using if condition to check whether the element found is in recent index\n",
    "       if(element==list[idx]):\n",
    "           \n",
    "           #Returns if the element is found in the list\n",
    "           return f\"{element} was found at index {idx}\"\n",
    "    \n",
    "    #Return when the element is not found\n",
    "    return f\"{element} is not found in the given list\"\n",
    "\n",
    "#Defining a list\n",
    "list = [11,12,13,14,17,20,21,19,29]\n",
    "\n",
    "#User input for the element to search\n",
    "element = int(input(\"Enter element to be searched: \"))\n",
    "\n",
    "#Calling the function\n",
    "final_result=linear_search(list,element)\n",
    "\n",
    "#Printing the final result\n",
    "print(final_result)"
   ]
  }
 ],
 "metadata": {
  "language_info": {
   "name": "python"
  }
 },
 "nbformat": 4,
 "nbformat_minor": 2
}
